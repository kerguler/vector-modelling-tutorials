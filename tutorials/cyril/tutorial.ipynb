{
 "cells": [
  {
   "cell_type": "code",
   "execution_count": null,
   "id": "6d8f8973",
   "metadata": {
    "vscode": {
     "languageId": "r"
    }
   },
   "outputs": [],
   "source": [
    "import cdsapi\n",
    "client = cdsapi.Client()\n",
    "\n",
    "dataset = \"reanalysis-cerra-single-levels\"\n",
    "request = {\n",
    "    \"variable\": [\"2m_temperature\"],\n",
    "    \"level_type\": \"surface_or_atmosphere\",\n",
    "    \"data_type\": [\"reanalysis\"],\n",
    "    \"product_type\": \"analysis\",\n",
    "    \"year\": [\"2020\"],\n",
    "    \"month\": [\"01\"],\n",
    "    \"day\": [\"01\"],\n",
    "    \"time\": [\"00:00\"],\n",
    "    \"data_format\": \"netcdf\"\n",
    "}\n",
    "fileout = \"test.nc\"\n",
    "\n",
    "client.retrieve(dataset, request, fileout)"
   ]
  },
  {
   "cell_type": "code",
   "execution_count": null,
   "id": "1429a62b",
   "metadata": {
    "vscode": {
     "languageId": "r"
    }
   },
   "outputs": [],
   "source": [
    "import xarray\n",
    "from matplotlib import pylab as plot\n",
    "\n",
    "d = xarray.open_dataset(\"test.nc\")\n",
    "\n",
    "plt.imshow(d['t2m'],interpolation='none',origin='lower')\n",
    "plt.show()"
   ]
  }
 ],
 "metadata": {
  "language_info": {
   "name": "python"
  }
 },
 "nbformat": 4,
 "nbformat_minor": 5
}

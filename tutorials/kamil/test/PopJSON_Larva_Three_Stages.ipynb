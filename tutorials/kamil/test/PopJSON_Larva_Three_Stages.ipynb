{
  "cells": [
    {
      "cell_type": "markdown",
      "metadata": {},
      "source": "# Teaching notebook: Building a PopJSON larva model step by step\n\nWe develop the larva model incrementally in **three stages**:\n\n1. Minimal Erlang-distributed development time (fixed).\n2. Add temperature forcing to make development climate-sensitive.\n3. Add a competing lifetime process and expose flows.\n\n---\n\n## Stage 1 — Minimal fixed Erlang development\n\nHere we only model **development** with a fixed Erlang clock.\n"
    },
    {
      "cell_type": "code",
      "metadata": {},
      "execution_count": null,
      "outputs": [],
      "source": "# Example 1 PopJSON\ncat(jsonlite::toJSON({\n  \"model\": {\n    \"title\": \"Dynamically-structured population model\",\n    \"type\": \"Population\",\n    \"url\": \"https://github.com/kerguler/Population\",\n    \"deterministic\": true,\n    \"parameters\": {\n      \"algorithm\": \"Population\",\n      \"istep\": 1e-13\n    }\n  },\n  \"populations\": [\n    {\n      \"id\": \"larva\",\n      \"name\": \"The larva stage\",\n      \"processes\": [\n        {\n          \"id\": \"larva_dev\",\n          \"name\": \"Larva development time\",\n          \"arbiter\": \"ACC_ERLANG\",\n          \"value\": [\n            10,\n            2\n          ]\n        }\n      ]\n    }\n  ]\n}, pretty=TRUE, auto_unbox=TRUE))"
    },
    {
      "cell_type": "markdown",
      "metadata": {},
      "source": "\n**Highlights**  \n- One population (`larva`)  \n- One process: `larva_dev` with `ACC_ERLANG` (mean=10, sd=2)  \n- Minimal model header and deterministic integration settings  \n"
    },
    {
      "cell_type": "markdown",
      "metadata": {},
      "source": "---\n\n## Stage 2 — Add temperature forcing\n\nWe introduce an **environmental driver** (`temp`), **functions** to map temperature to time, and **intermediates** to derive mean/sd for development.\n\n"
    },
    {
      "cell_type": "code",
      "metadata": {},
      "execution_count": null,
      "outputs": [],
      "source": "# Example 2 PopJSON\ncat(jsonlite::toJSON({\n  \"model\": {\n    \"title\": \"Dynamically-structured population model\",\n    \"type\": \"Population\",\n    \"url\": \"https://github.com/kerguler/Population\",\n    \"deterministic\": true,\n    \"parameters\": {\n      \"algorithm\": \"Population\",\n      \"istep\": 1e-13\n    }\n  },\n  \"environ\": [\n    {\n      \"id\": \"temp\",\n      \"name\": \"Temperature (in \\u00b0C)\"\n    }\n  ],\n  \"functions\": {\n    \"briere1\": [\n      \"define\",\n      [\n        \"T\",\n        \"L\",\n        \"R\",\n        \"a\"\n      ],\n      [\n        \"?\",\n        [\n          \"<=\",\n          \"T\",\n          \"L\"\n        ],\n        \"0.0\",\n        [\n          \"?\",\n          [\n            \">=\",\n            \"T\",\n            \"R\"\n          ],\n          \"0.0\",\n          [\n            \"max\",\n            \"0.0\",\n            [\n              \"*\",\n              \"a\",\n              \"T\",\n              [\n                \"-\",\n                \"T\",\n                \"L\"\n              ],\n              [\n                \"sqrt\",\n                [\n                  \"-\",\n                  \"R\",\n                  \"T\"\n                ]\n              ]\n            ]\n          ]\n        ]\n      ]\n    ],\n    \"briere1_dev\": [\n      \"define\",\n      [\n        \"T\",\n        \"L\",\n        \"R\",\n        \"a\"\n      ],\n      [\n        \"min\",\n        10000000000000.0,\n        [\n          \"/\",\n          \"1.0\",\n          [\n            \"briere1\",\n            \"T\",\n            \"L\",\n            \"R\",\n            \"a\"\n          ]\n        ]\n      ]\n    ]\n  },\n  \"parameters\": [\n    {\n      \"id\": \"param_dP_1\",\n      \"constant\": false,\n      \"name\": \"Larva development mean (minimum)\",\n      \"value\": 10.0\n    },\n    {\n      \"id\": \"param_dP_2\",\n      \"constant\": false,\n      \"name\": \"Larva development mean (maximum)\",\n      \"value\": 30.0\n    },\n    {\n      \"id\": \"param_dP_3\",\n      \"constant\": false,\n      \"name\": \"Larva development mean (strength)\",\n      \"value\": 0.0001\n    }\n  ],\n  \"intermediates\": [\n    {\n      \"id\": \"int_larva_dev_mean\",\n      \"value\": [\n        \"briere1_dev\",\n        [\n          \"temp\",\n          \"TIME_1\"\n        ],\n        \"param_dP_1\",\n        \"param_dP_2\",\n        \"param_dP_3\"\n      ]\n    },\n    {\n      \"id\": \"int_larva_dev_stdev\",\n      \"value\": [\n        \"sqrt\",\n        \"int_larva_dev_mean\"\n      ]\n    }\n  ],\n  \"populations\": [\n    {\n      \"id\": \"larva\",\n      \"name\": \"The larva stage\",\n      \"processes\": [\n        {\n          \"id\": \"larva_dev\",\n          \"name\": \"Larva development time\",\n          \"arbiter\": \"ACC_ERLANG\",\n          \"value\": [\n            \"int_larva_dev_mean\",\n            \"int_larva_dev_stdev\"\n          ]\n        }\n      ]\n    }\n  ]\n}, pretty=TRUE, auto_unbox=TRUE))"
    },
    {
      "cell_type": "markdown",
      "metadata": {},
      "source": "\n**Highlights**  \n- `environ`: adds `temp`  \n- `functions`: define thermal response (Brière type)  \n- `parameters`: lower/upper bounds, scaling  \n- `intermediates`: derive `int_larva_dev_mean`, `int_larva_dev_stdev` using yesterday's temp (`TIME_1`)  \n- Process now uses these intermediates as its Erlang parameters  \n"
    },
    {
      "cell_type": "markdown",
      "metadata": {},
      "source": "---\n\n## Stage 3 — Add lifetime process and transformations\n\nWe add a **second Erlang process** for lifetime (`larva_death`). Now larvae can exit by pupation *or* mortality. We also expose flows via `transformations`.\n\n"
    },
    {
      "cell_type": "code",
      "metadata": {},
      "execution_count": null,
      "outputs": [],
      "source": "# Example 3 PopJSON\ncat(jsonlite::toJSON({\n  \"model\": {\n    \"title\": \"Dynamically-structured population model\",\n    \"type\": \"Population\",\n    \"url\": \"https://github.com/kerguler/Population\",\n    \"deterministic\": true,\n    \"parameters\": {\n      \"algorithm\": \"Population\",\n      \"istep\": 1e-13\n    }\n  },\n  \"environ\": [\n    {\n      \"id\": \"temp\",\n      \"name\": \"Temperature (in \\u00b0C)\"\n    }\n  ],\n  \"functions\": {\n    \"briere1\": [\n      \"define\",\n      [\n        \"T\",\n        \"L\",\n        \"R\",\n        \"a\"\n      ],\n      [\n        \"?\",\n        [\n          \"<=\",\n          \"T\",\n          \"L\"\n        ],\n        \"0.0\",\n        [\n          \"?\",\n          [\n            \">=\",\n            \"T\",\n            \"R\"\n          ],\n          \"0.0\",\n          [\n            \"max\",\n            \"0.0\",\n            [\n              \"*\",\n              \"a\",\n              \"T\",\n              [\n                \"-\",\n                \"T\",\n                \"L\"\n              ],\n              [\n                \"sqrt\",\n                [\n                  \"-\",\n                  \"R\",\n                  \"T\"\n                ]\n              ]\n            ]\n          ]\n        ]\n      ]\n    ],\n    \"briere1_dev\": [\n      \"define\",\n      [\n        \"T\",\n        \"L\",\n        \"R\",\n        \"a\"\n      ],\n      [\n        \"min\",\n        10000000000000.0,\n        [\n          \"/\",\n          \"1.0\",\n          [\n            \"briere1\",\n            \"T\",\n            \"L\",\n            \"R\",\n            \"a\"\n          ]\n        ]\n      ]\n    ]\n  },\n  \"parameters\": [\n    {\n      \"id\": \"param_dP_1\",\n      \"constant\": false,\n      \"name\": \"Larva development mean (minimum)\",\n      \"value\": 10.0\n    },\n    {\n      \"id\": \"param_dP_2\",\n      \"constant\": false,\n      \"name\": \"Larva development mean (maximum)\",\n      \"value\": 30.0\n    },\n    {\n      \"id\": \"param_dP_3\",\n      \"constant\": false,\n      \"name\": \"Larva development mean (strength)\",\n      \"value\": 0.0001\n    }\n  ],\n  \"intermediates\": [\n    {\n      \"id\": \"int_larva_dev_mean\",\n      \"value\": [\n        \"briere1_dev\",\n        [\n          \"temp\",\n          \"TIME_1\"\n        ],\n        \"param_dP_1\",\n        \"param_dP_2\",\n        \"param_dP_3\"\n      ]\n    },\n    {\n      \"id\": \"int_larva_dev_stdev\",\n      \"value\": [\n        \"sqrt\",\n        \"int_larva_dev_mean\"\n      ]\n    }\n  ],\n  \"populations\": [\n    {\n      \"id\": \"larva\",\n      \"name\": \"The larva stage\",\n      \"processes\": [\n        {\n          \"id\": \"larva_death\",\n          \"name\": \"Larva life time\",\n          \"arbiter\": \"ACC_ERLANG\",\n          \"value\": [\n            50.0,\n            5.0\n          ]\n        },\n        {\n          \"id\": \"larva_dev\",\n          \"name\": \"Larva development time\",\n          \"arbiter\": \"ACC_ERLANG\",\n          \"value\": [\n            \"int_larva_dev_mean\",\n            \"int_larva_dev_stdev\"\n          ]\n        }\n      ]\n    }\n  ],\n  \"transformations\": [\n    {\n      \"id\": \"pupa\",\n      \"value\": \"larva_dev\"\n    }\n  ]\n}, pretty=TRUE, auto_unbox=TRUE))"
    },
    {
      "cell_type": "markdown",
      "metadata": {},
      "source": "\n**Highlights**  \n- Two processes: `larva_dev` (temperature-driven) and `larva_death` (fixed mean/sd)  \n- Competing clocks → larvae pupate if development finishes first, die if lifetime ends first  \n- `transformations`: expose pupation flow as an observable  \n"
    }
  ],
  "metadata": {
    "kernelspec": {
      "display_name": "R",
      "language": "R",
      "name": "ir"
    },
    "language_info": {
      "name": "R",
      "mimetype": "text/x-r-source",
      "file_extension": ".r"
    }
  },
  "nbformat": 4,
  "nbformat_minor": 5
}
{
  "cells": [
    {
      "cell_type": "markdown",
      "metadata": {},
      "source": "# PopJSON + R tutorial: Larval population with temperature-dependent Erlang timers\n\nThis notebook demonstrates how to:\n1. Construct a PopJSON model for a larval stage with **temperature-dependent Erlang-distributed lifetime** and **temperature-dependent Erlang-distributed development time**.\n2. Simulate an **ODE analogue** that represents these two Erlang 'clocks' as **interacting linear chains** (a phase-type / CTMC construction).\n3. Compare outputs (larval abundance, cumulative pupation, cumulative mortality) under a varying temperature.\n\nReferences:  \n- PopJSON docs: https://kerguler.github.io/PopJSON/  \n- sPop / accumulative-process formulation: Erguler et al. 2022; Erguler 2020.\n"
    },
    {
      "cell_type": "markdown",
      "metadata": {},
      "source": "## 1) Setup"
    },
    {
      "cell_type": "code",
      "metadata": {},
      "execution_count": null,
      "outputs": [],
      "source": "# install.packages(c('jsonlite','deSolve','ggplot2','dplyr','tidyr'))\nlibrary(jsonlite)\nlibrary(deSolve)\nlibrary(ggplot2)\nlibrary(dplyr)\nlibrary(tidyr)\n"
    },
    {
      "cell_type": "markdown",
      "metadata": {},
      "source": "## 2) Temperature forcing and process mappings"
    },
    {
      "cell_type": "code",
      "metadata": {},
      "execution_count": null,
      "outputs": [],
      "source": "T_seasonal <- function(t, T_mean = 24, amplitude = 6, phase = 30, period = 365) {\n  T_mean + amplitude * sin(2*pi*(t - phase)/period)\n}\n\nbriere1_recip <- function(T, a, L, R) {\n  val <- ifelse(T <= L | T >= R, 365.0,\n                1.0 / exp(a + log(pmax(T,1e-9)) + log(pmax(T-L,1e-9)) + 0.5*log(pmax(R-T,1e-9))))\n  pmin(365.0, pmax(1.0, val))\n}\n\ndev_mean_days <- function(T) briere1_recip(T, a=-15, L=10, R=35)\nlife_mean_days <- function(T) briere1_recip(T, a=-14, L=8, R=38)\n\nk_dev <- 8; k_life <- 4\ndev_sd_days <- function(T) dev_mean_days(T)/sqrt(k_dev)\nlife_sd_days <- function(T) life_mean_days(T)/sqrt(k_life)\n\nrate_dev <- function(t) { k_dev / dev_mean_days(T_seasonal(t)) }\nrate_life <- function(t) { k_life / life_mean_days(T_seasonal(t)) }\n"
    },
    {
      "cell_type": "markdown",
      "metadata": {},
      "source": "## 3) Construct the PopJSON model"
    },
    {
      "cell_type": "code",
      "metadata": {},
      "execution_count": null,
      "outputs": [],
      "source": "popjson <- list(\n  model = list(\n    title = \"Larva with competing Erlang clocks\",\n    type = \"Population\",\n    url  = \"https://github.com/kerguler/Population\",\n    deterministic = TRUE,\n    parameters = list(algorithm=\"Population\", istep=0.01)\n  ),\n  environ = list(list(id=\"temp\", name=\"Temperature (C)\", url=\"\")),\n  functions = list(\n    briere1 = [\"define\", [\"T\",\"B\",\"E\",\"a\"], [\"?\",\n      [\"<=\",\"T\",\"B\"], \"365.0\",\n      [\"?\",[\">=\",\"T\",\"E\"],\"365.0\",\n        [\"min\",\"365.0\",\n          [\"max\",\"1.0\",\n            [\"/\",\"1.0\",\n              [\"exp\", [\"+\",\"a\",[\"log\",\"T\"],[\"log\",[\"-\",\"T\",\"B\"]],[\"*\",\"0.5\",[\"log\",[\"-\",\"E\",\"T\"]]]]]\n            ]\n          ]\n        ]\n      ]\n    ]]\n  ),\n  intermediates = list(\n    list(id=\"d2m\", value=[\"briere1\", [\"temp\",\"TIME_1\"], 10, 35, -15]),\n    list(id=\"l2m\", value=[\"briere1\", [\"temp\",\"TIME_1\"], 8, 38, -14]),\n    list(id=\"d2s\", value=[\"*\",\"d2m\", 1.0/(k_dev^0.5)]),\n    list(id=\"l2s\", value=[\"*\",\"l2m\", 1.0/(k_life^0.5)])\n  ),\n  populations = list(list(\n    id=\"larva\",\n    name=\"Larva stage\",\n    processes=list(\n      list(id=\"larva_mort\", name=\"Larva lifetime\", arbiter=\"ACC_ERLANG\", value=[\"l2m\",\"l2s\"]),\n      list(id=\"larva_dev\", name=\"Larva development\", arbiter=\"ACC_ERLANG\", value=[\"d2m\",\"d2s\"])\n    ),\n    init=list(list(0,0,200))\n  )),\n  transformations=list(\n    list(id=\"larva_death\", name=\"Larvae dying today\", value=\"larva_mort\"),\n    list(id=\"larva_to_pupa\", name=\"Larvae developing to pupa\", value=\"larva_dev\")\n  )\n)\nwrite(toJSON(popjson, pretty=TRUE, auto_unbox=TRUE), \"larva_erlang_temp_popjson.json\")\n"
    },
    {
      "cell_type": "markdown",
      "metadata": {},
      "source": "## 4) ODE analogue: phase-type representation"
    },
    {
      "cell_type": "code",
      "metadata": {},
      "execution_count": null,
      "outputs": [],
      "source": "make_rhs <- function(kD, kL) {\n  function(t,y,parms) {\n    n_grid <- kD*kL\n    x <- y[1:n_grid]; P <- y[n_grid+1]; D <- y[n_grid+2]\n    lamD <- rate_dev(t); lamL <- rate_life(t)\n    dx <- rep(0,n_grid); dP <- 0; dD <- 0\n    idx <- function(i,j) (i-1)*kL+j\n    for(i in 1:kD) for(j in 1:kL) {\n      id <- idx(i,j)\n      out_dev <- lamD*x[id]; out_life <- lamL*x[id]\n      dx[id] <- dx[id] - (out_dev+out_life)\n      if(i<kD) dx[idx(i+1,j)] <- dx[idx(i+1,j)] + out_dev else dP <- dP+out_dev\n      if(j<kL) dx[idx(i,j+1)] <- dx[idx(i,j+1)] + out_life else dD <- dD+out_life\n    }\n    list(c(dx,dP,dD))\n  }\n}\nkD<-k_dev; kL<-k_life; rhs<-make_rhs(kD,kL)\ny0 <- c(rep(0,kD*kL),0,0); y0[1]<-200\ntimes<-seq(0,200,by=0.25)\nsol <- as.data.frame(ode(y=y0,times=times,func=rhs,parms=NULL,method=\"lsoda\"))\nn_grid<-kD*kL\nsol <- sol %>% mutate(Larvae=rowSums(.[,2:(n_grid+1)])) %>% rename(Pupa=.[[n_grid+2]],Dead=.[[n_grid+3]])\n"
    },
    {
      "cell_type": "markdown",
      "metadata": {},
      "source": "## 5) Visualization"
    },
    {
      "cell_type": "code",
      "metadata": {},
      "execution_count": null,
      "outputs": [],
      "source": "df_long <- sol %>% select(time,Larvae,Pupa,Dead) %>% pivot_longer(-time)\nggplot(df_long,aes(x=time,y=value,linetype=name))+geom_line()+\n  labs(title=\"Larval system (ODE analogue)\",x=\"Time (d)\",y=\"Count\")+theme_minimal()\n"
    },
    {
      "cell_type": "code",
      "metadata": {},
      "execution_count": null,
      "outputs": [],
      "source": "temp_df <- data.frame(time=times,T=T_seasonal(times))\nggplot(temp_df,aes(x=time,y=T))+geom_line()+labs(title=\"Temperature forcing\",x=\"Time (d)\",y=\"T (C)\")+theme_minimal()\n"
    }
  ],
  "metadata": {
    "kernelspec": {
      "display_name": "R",
      "language": "R",
      "name": "ir"
    },
    "language_info": {
      "name": "R",
      "mimetype": "text/x-r-source",
      "file_extension": ".r"
    }
  },
  "nbformat": 4,
  "nbformat_minor": 5
}
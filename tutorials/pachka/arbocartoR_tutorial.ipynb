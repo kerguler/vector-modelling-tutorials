{
 "cells": [
  {
   "cell_type": "markdown",
   "id": "3b0a58db",
   "metadata": {
    "editable": true,
    "slideshow": {
     "slide_type": ""
    },
    "tags": []
   },
   "source": [
    "# Tutorial: How to use arbocartoR\n",
    "This tutorial introduces the **arbocartoR** package, which simulates:\n",
    "- Spatial and temporal dynamics of *Aedes* mosquito populations under natural and controlled conditions.\n",
    "- Epidemiological dynamics of arboviruses (*dengue, zika, chikungunya*) across human and vector populations."
   ]
  },
  {
   "cell_type": "markdown",
   "id": "efae33b2",
   "metadata": {
    "editable": true,
    "slideshow": {
     "slide_type": ""
    },
    "tags": []
   },
   "source": [
    "## Setup\n",
    "Install arbocartoR package:"
   ]
  },
  {
   "cell_type": "code",
   "execution_count": null,
   "id": "78fa5bee-411e-4245-85b4-a488dd531454",
   "metadata": {
    "editable": true,
    "slideshow": {
     "slide_type": ""
    },
    "tags": []
   },
   "outputs": [],
   "source": [
    "# remotes::install_gitlab(\"astre/arbocartoR\", host = \"https://gitlab.cirad.fr\")"
   ]
  },
  {
   "cell_type": "markdown",
   "id": "50dc16ca-d002-44dc-9d10-4b154d18b20a",
   "metadata": {
    "editable": true,
    "slideshow": {
     "slide_type": ""
    },
    "tags": []
   },
   "source": [
    "Load required packages:"
   ]
  },
  {
   "cell_type": "code",
   "execution_count": null,
   "id": "3faadcbd",
   "metadata": {
    "editable": true,
    "slideshow": {
     "slide_type": ""
    },
    "tags": []
   },
   "outputs": [],
   "source": [
    "\n",
    "suppressPackageStartupMessages({\n",
    "  suppressWarnings({\n",
    "    library(arbocartoR)\n",
    "    library(data.table)\n",
    "    library(magrittr)\n",
    "    library(tidyterra)\n",
    "    library(ggplot2)\n",
    "    library(sf)\n",
    "    library(TDLM)\n",
    "  })\n",
    "})\n"
   ]
  },
  {
   "cell_type": "markdown",
   "id": "8b197a24",
   "metadata": {
    "editable": true,
    "slideshow": {
     "slide_type": ""
    },
    "tags": []
   },
   "source": [
    "## General Data\n",
    "The package requires two main datasets:\n",
    "- **parcels**: each row is a node/parcel with attributes (ID: parcel unique identifier, POP: resident population, Kfix: fix/anthropogenic carrying capacity of the parcel, Kvar: variable/rainfall-dependant carying capacity, etc.).\n",
    "- **meteo**: meteorological data (ID, DATE, rainfall `RR` - in mm, temperature `TP` - in degrees).\n",
    "\n",
    "The structure and attributes of the data are detailled in the helpers."
   ]
  },
  {
   "cell_type": "code",
   "execution_count": null,
   "id": "68b941da-2f45-49ae-bac5-c5c8f331c4e3",
   "metadata": {},
   "outputs": [],
   "source": [
    "# ? parcels"
   ]
  },
  {
   "cell_type": "code",
   "execution_count": null,
   "id": "bba0dd42-ae85-48dc-97d8-d4ad9245ba4e",
   "metadata": {},
   "outputs": [],
   "source": [
    "# ? meteo"
   ]
  },
  {
   "cell_type": "markdown",
   "id": "8a828b4a-52dd-4075-becf-8099d2c60dc4",
   "metadata": {},
   "source": [
    "An example for both datasets is provided in the package:"
   ]
  },
  {
   "cell_type": "code",
   "execution_count": null,
   "id": "9efc3c24",
   "metadata": {},
   "outputs": [],
   "source": [
    "data(parcels)\n",
    "data(meteo)\n",
    "\n",
    "head(parcels)\n",
    "head(meteo)"
   ]
  },
  {
   "cell_type": "markdown",
   "id": "0737755d",
   "metadata": {},
   "source": [
    "### Select a subset of parcels\n",
    "Lets use only 4 parcels to run quick simulations."
   ]
  },
  {
   "cell_type": "code",
   "execution_count": null,
   "id": "f69781a4",
   "metadata": {
    "editable": true,
    "slideshow": {
     "slide_type": ""
    },
    "tags": []
   },
   "outputs": [],
   "source": [
    "\n",
    "parcels <- parcels[startsWith(ID, \"06\") & (grepl(\"Gatt\", NOM_COM) | grepl(\"Saint-Jeannet\", NOM_COM) | grepl(\"La Gaude\", NOM_COM)), ]\n"
   ]
  },
  {
   "cell_type": "markdown",
   "id": "c713d669",
   "metadata": {},
   "source": [
    "### Run a simple simulation\n",
    "Select the species of interest, inform the function with your parcels and meteo objects, as well as the temporal boundaries of the simulation. The period must be covered by the meteorological dataset and must last at least a year (for initialization purposes).\n",
    "Note that the vector population dynamics is deterministic, running multiple simulations would produce identical outputs."
   ]
  },
  {
   "cell_type": "code",
   "execution_count": null,
   "id": "6cfb2ca4",
   "metadata": {},
   "outputs": [],
   "source": [
    "traj <- run_arbocartoR(\n",
    "  vector = \"Ae. aegypti\",\n",
    "  parcels = parcels,\n",
    "  meteo = meteo,\n",
    "  n_sim = 1,\n",
    "  start_date = min(meteo$DATE) %>% as.Date,\n",
    "  end_date = max(meteo$DATE) %>% as.Date\n",
    ")"
   ]
  },
  {
   "cell_type": "markdown",
   "id": "ae8f8ed5-ffd1-495c-bc6f-bbcf36c06159",
   "metadata": {},
   "source": [
    "Explore the simulated trajectories compiled as a list of data.table with one data.table per simulation. Use `plot_TS` function to visualize the trajectiories."
   ]
  },
  {
   "cell_type": "code",
   "execution_count": null,
   "id": "3d68a3b0-c562-482f-b0ac-25a09a032d29",
   "metadata": {},
   "outputs": [],
   "source": [
    "head(traj[[1]])\n",
    "\n",
    "plot_TS(traj, stage = \"newEggs\")"
   ]
  },
  {
   "cell_type": "markdown",
   "id": "2482fbfd-f819-4e86-9745-6f92dee7d16f",
   "metadata": {},
   "source": [
    "### Explore and update parameters\n",
    "Use the `build_gdata` function to build the set of ecological and epidemiological parameters required by the model. \n",
    "Explore the default parameters for *aegypti*."
   ]
  },
  {
   "cell_type": "code",
   "execution_count": null,
   "id": "0fa89055-9c75-434a-be51-cc4c0dc9dd61",
   "metadata": {},
   "outputs": [],
   "source": [
    "# ?build_gdata()\n",
    "gdata_default <- build_gdata(vector = \"Ae. aegypti\")"
   ]
  },
  {
   "cell_type": "markdown",
   "id": "2f6879af-cb7c-4b15-b7d9-8ecdf35bf4b0",
   "metadata": {},
   "source": [
    "Update the parameters for *aegypti*."
   ]
  },
  {
   "cell_type": "code",
   "execution_count": null,
   "id": "2588582f-91eb-4b33-af07-a6f8e89d04eb",
   "metadata": {},
   "outputs": [],
   "source": [
    "#Change parameters\n",
    "gdata_updated <- build_gdata(vector = \"Ae. aegypti\",\n",
    "            bMH = 0.5,\n",
    "            muE = 0.001)"
   ]
  },
  {
   "cell_type": "markdown",
   "id": "67d35c01-f2f0-4d17-809d-8434df517a0e",
   "metadata": {},
   "source": [
    "Compare them:"
   ]
  },
  {
   "cell_type": "code",
   "execution_count": null,
   "id": "f65ede40-c5a3-4d29-a278-84804a74080c",
   "metadata": {},
   "outputs": [],
   "source": [
    "gdata_default[c(\"bMH\",\"muE\",\"mu1L\")]\n",
    "\n",
    "gdata_updated[c(\"bMH\",\"muE\",\"mu1L\")]"
   ]
  },
  {
   "cell_type": "markdown",
   "id": "bbb94ec7-ff62-4399-af2f-b9c5270684b2",
   "metadata": {},
   "source": [
    "Run a simulation with those data"
   ]
  },
  {
   "cell_type": "code",
   "execution_count": null,
   "id": "a6194f57-b8c3-405b-bdfa-fa1224b3edd7",
   "metadata": {},
   "outputs": [],
   "source": [
    "traj <- run_arbocartoR(\n",
    "  vector = \"Ae. aegypti\",\n",
    "  parcels = parcels,\n",
    "  meteo = meteo,\n",
    "  gdata = gdata_updated,\n",
    "  n_sim = 1,\n",
    "  start_date = min(meteo$DATE) %>% as.Date,\n",
    "  end_date = max(meteo$DATE) %>% as.Date\n",
    ")\n",
    "\n",
    "head(traj[[1]])\n",
    "\n",
    "plot_TS(traj, stage = \"newEggs\")"
   ]
  },
  {
   "cell_type": "markdown",
   "id": "4a77c8ac",
   "metadata": {},
   "source": [
    "## Local Preventive Control\n",
    "Initialize dataset for preventive control actions.\n",
    "Preventive control measures should be described in a data.frame or data.table using the mandatory following columns: 'action', 'loc', 'start', 'end', 'p'."
   ]
  },
  {
   "cell_type": "markdown",
   "id": "3dc088e3",
   "metadata": {},
   "source": [
    "### Define control actions"
   ]
  },
  {
   "cell_type": "code",
   "execution_count": null,
   "id": "bd980be5",
   "metadata": {},
   "outputs": [],
   "source": [
    "prev_control <- data.table(\n",
    "  action = character(),\n",
    "  loc = factor(),\n",
    "  start = structure(numeric(0), class = \"Date\"),\n",
    "  end = structure(numeric(0), class = \"Date\"),\n",
    "  p = numeric()\n",
    ")\n",
    "\n",
    "# Reduce carrying capacity (breeding sites destruction)\n",
    "prev_control <- rbindlist(list(prev_control, data.table(\n",
    "  action = \"K\",\n",
    "  loc = \"060640000\",\n",
    "  start = as.Date(\"2022/07/01\"),\n",
    "  end = as.Date(\"2022/07/07\"),\n",
    "  p = 0.2\n",
    ")), fill = TRUE)\n",
    "\n",
    "# Increase larvae mortality (larviciding)\n",
    "prev_control <- rbindlist(list(prev_control, data.table(\n",
    "  action = \"L\",\n",
    "  loc = \"060640000\",\n",
    "  start = as.Date(\"2022/07/01\"),\n",
    "  end = as.Date(\"2022/07/07\"),\n",
    "  p = 0.2\n",
    ")), fill = TRUE)\n",
    "\n",
    "prev_control <- rbindlist(list(prev_control, data.table(\n",
    "  action = \"L\",\n",
    "  loc = \"061220000\",\n",
    "  start = as.Date(\"2022/07/07\"),\n",
    "  end = as.Date(\"2022/07/15\"),\n",
    "  p = 0.5\n",
    ")), fill = TRUE)\n",
    "\n",
    "# Increase adult mortality (fumigation)\n",
    "prev_control <- rbindlist(list(prev_control, data.table(\n",
    "  action = \"A\",\n",
    "  loc = \"061220000\",\n",
    "  start = as.Date(\"2022/07/01\"),\n",
    "  end = as.Date(\"2022/07/07\"),\n",
    "  p = 0.2\n",
    ")), fill = TRUE)\n",
    "\n",
    "prev_control <- rbindlist(list(prev_control, data.table(\n",
    "  action = \"A\",\n",
    "  loc = \"060640000\",\n",
    "  start = as.Date(\"2022/07/01\"),\n",
    "  end = as.Date(\"2022/07/07\"),\n",
    "  p = 0.8\n",
    ")), fill = TRUE)\n"
   ]
  },
  {
   "cell_type": "markdown",
   "id": "eeb9f2c1-fe95-4c7b-acd1-29a3dd2541e7",
   "metadata": {},
   "source": [
    "You can also use `build_prev_control()` function to format it using GPS coordinates and buffer width (area covered by the control activities). \n",
    "A SpatVector object is required to calculate the spatial intersection between the parcels and the area covered by the control activities."
   ]
  },
  {
   "cell_type": "code",
   "execution_count": null,
   "id": "965adc8f-433b-4d50-8bb2-4f8f03863a70",
   "metadata": {},
   "outputs": [],
   "source": [
    "SpatVec <- system.file(\"shape/SpatVec.shp\", package = \"arbocartoR\") %>% terra::vect(.)\n",
    "SpatVec <- SpatVec[SpatVec$ID %in% parcels$ID, ]\n",
    "\n",
    "prev_control_func <- build_prev_control(action = c(\"K\", \"L\"),\n",
    "                   lon = 1034406, lat = 6306132,\n",
    "                   start = as.Date(\"2022/07/01\"),\n",
    "                   end = as.Date(\"2022/07/07\"),\n",
    "                   p = c(0.2, 0.8),\n",
    "                   SpatVec = SpatVec,\n",
    "                   buffer_width = 100)"
   ]
  },
  {
   "cell_type": "markdown",
   "id": "ff100cf6",
   "metadata": {},
   "source": [
    "### Run simulation with preventive control"
   ]
  },
  {
   "cell_type": "code",
   "execution_count": null,
   "id": "7aba6d46",
   "metadata": {},
   "outputs": [],
   "source": [
    "traj <- run_arbocartoR(\n",
    "  vector = \"Ae. aegypti\",\n",
    "  parcels = parcels,\n",
    "  meteo = meteo,\n",
    "  n_sim = 1,\n",
    "  start_date = min(meteo$DATE) %>% as.Date,\n",
    "  end_date = max(meteo$DATE) %>% as.Date,\n",
    "  prev_control = prev_control\n",
    ")\n",
    "\n",
    "prev_control\n",
    "plot_TS(traj, stage = \"Lm\")"
   ]
  },
  {
   "cell_type": "markdown",
   "id": "552c0c0f",
   "metadata": {},
   "source": [
    "## Introduction of Exposed Individuals\n",
    "Define an introduction event modifying the epidemiological state of the population at a given time."
   ]
  },
  {
   "cell_type": "code",
   "execution_count": null,
   "id": "165f06ee",
   "metadata": {},
   "outputs": [],
   "source": [
    "introduction_pts <- build_E_random(\n",
    "  period_start = as.Date(\"2022/07/01\"),\n",
    "  period_end   = as.Date(\"2022/07/15\"),\n",
    "  n_ind = 10,\n",
    "  n_events = 1,\n",
    "  stage = \"Eh\",\n",
    "  loc = parcels$ID\n",
    ")\n",
    "\n",
    "introduction_pts\n",
    "\n",
    "traj <- run_arbocartoR(\n",
    "  vector = \"Ae. aegypti\",\n",
    "  parcels = parcels,\n",
    "  meteo = meteo,\n",
    "  n_sim = 5,\n",
    "  start_date = as.Date(\"2022/01/01\"),\n",
    "  end_date = as.Date(\"2022/11/30\"),\n",
    "  introduction_pts = introduction_pts,\n",
    "  initMosq = 1e5\n",
    ")\n",
    "\n",
    "plot_TS(traj, stage = c(\"Eh\", \"Ih\", \"Rh\"))"
   ]
  },
  {
   "cell_type": "markdown",
   "id": "05139fd2",
   "metadata": {},
   "source": [
    "## Human Mobility\n",
    "Introduce human mobility between parcels based on the spatial structure of the area of interest, distribution law based on distance between parcels and resident population."
   ]
  },
  {
   "cell_type": "code",
   "execution_count": null,
   "id": "becfb852-0f40-4372-8ea5-6e385e958051",
   "metadata": {},
   "outputs": [],
   "source": [
    "SpatVec <- system.file(\"shape/SpatVec.shp\", package = \"arbocartoR\") %>% terra::vect(.)\n",
    "SpatVec <- SpatVec[SpatVec$ID %in% parcels$ID, ]\n",
    "\n",
    "mMov <- build_mMov(SpatVec,\n",
    "                   law = \"NGravExp\",\n",
    "                   p2move = 0.715,\n",
    "                   verbose = TRUE)\n",
    "\n",
    "SpatVec$pMovij <- mMov$proba_ij[rownames(mMov$proba_ij) == \"060650102\",]\n",
    "SpatVec$pMovji <- mMov$proba_ji[rownames(mMov$proba_ji) == \"060650102\",]\n",
    "\n",
    "ggplot(SpatVec) +\n",
    "  geom_spatvector(aes(fill = pMovij), color = NA) +\n",
    "  scale_fill_continuous(low = \"white\", high = \"#590003\") +\n",
    "  ggtitle(\"Probability to visit a parcel (residents of 061220000)\") +\n",
    "  labs(fill = \"\")\n",
    "\n",
    "ggplot(SpatVec) +\n",
    "  geom_spatvector(aes(fill = pMovji), color = NA) +\n",
    "  scale_fill_continuous(low = \"white\", high = \"#590003\") +\n",
    "  ggtitle(\"Probability of visiting 061220000 (depending on residence)\") +\n",
    "  labs(fill = \"\")"
   ]
  },
  {
   "cell_type": "markdown",
   "id": "7a3b74ea-8ee4-437c-bd04-8241a7a0c422",
   "metadata": {},
   "source": [
    "#### Run the simulation with mobility"
   ]
  },
  {
   "cell_type": "code",
   "execution_count": null,
   "id": "b5b588fb-4fb1-4796-9c57-eb8fa229f396",
   "metadata": {},
   "outputs": [],
   "source": [
    "traj_mMov <- run_arbocartoR(\n",
    "  vector = \"Ae. aegypti\",\n",
    "  parcels = parcels,\n",
    "  meteo = meteo,\n",
    "  mMov = mMov,\n",
    "  n_sim = 1,\n",
    "  start_date = as.Date(\"2022/01/01\"),\n",
    "  end_date = as.Date(\"2022/11/30\"),\n",
    "  introduction_pts = introduction_pts,\n",
    "  initMosq = 1e5\n",
    ")"
   ]
  },
  {
   "cell_type": "markdown",
   "id": "6bd7692c-61c7-4152-ab2b-b6dce5f7375e",
   "metadata": {},
   "source": [
    "#### Explore and compare the output"
   ]
  },
  {
   "cell_type": "code",
   "execution_count": null,
   "id": "39b71054-5b21-4bff-8337-92ab7a4ae9f9",
   "metadata": {},
   "outputs": [],
   "source": [
    "message(\"Parcels of introduction\")\n",
    "introduction_pts\n",
    "\n",
    "message(\"Infected parcels without mobility\")\n",
    "traj[[1]][Eh > 0, unique(ID)] \n",
    "\n",
    "message(\"Infected parcels with mobility\")\n",
    "traj_mMov[[1]][Eh > 0, unique(ID)] \n"
   ]
  }
 ],
 "metadata": {
  "kernelspec": {
   "display_name": "R 4.5.1",
   "language": "R",
   "name": "ir451"
  },
  "language_info": {
   "codemirror_mode": "r",
   "file_extension": ".r",
   "mimetype": "text/x-r-source",
   "name": "R",
   "pygments_lexer": "r",
   "version": "4.5.1"
  }
 },
 "nbformat": 4,
 "nbformat_minor": 5
}

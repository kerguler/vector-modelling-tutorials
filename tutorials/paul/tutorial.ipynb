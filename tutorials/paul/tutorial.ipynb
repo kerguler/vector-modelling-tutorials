{
 "cells": [
  {
   "cell_type": "markdown",
   "id": "166eac3d",
   "metadata": {},
   "source": [
    "Please follow the instructions at this link:\n",
    "\n",
    "[https://vectorbyteorg.github.io/bayesTPC-tutorials/intro.html](https://vectorbyteorg.github.io/bayesTPC-tutorials/intro.html)\n",
    "\n",
    "You can copy-paste the scripts below to run them."
   ]
  },
  {
   "cell_type": "markdown",
   "id": "c1bda0a3",
   "metadata": {},
   "source": []
  }
 ],
 "metadata": {
  "language_info": {
   "name": "python"
  }
 },
 "nbformat": 4,
 "nbformat_minor": 5
}

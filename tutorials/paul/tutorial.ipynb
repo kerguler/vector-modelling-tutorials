{
 "cells": [
  {
   "cell_type": "markdown",
   "id": "42c5c763",
   "metadata": {},
   "source": [
    "https://vectorbyteorg.github.io/vectorbyte-training2024/materials.html"
   ]
  },
  {
   "cell_type": "markdown",
   "id": "df8042cc",
   "metadata": {},
   "source": [
    "https://vectorbyteorg.github.io/vectorbyte-training4/VB_Bayes_activity2B.html"
   ]
  },
  {
   "cell_type": "markdown",
   "id": "5db3c6e5",
   "metadata": {},
   "source": []
  }
 ],
 "metadata": {
  "language_info": {
   "name": "python"
  }
 },
 "nbformat": 4,
 "nbformat_minor": 5
}

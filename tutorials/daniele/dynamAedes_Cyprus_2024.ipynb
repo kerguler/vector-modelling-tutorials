{
 "cells": [
  {
   "cell_type": "raw",
   "id": "e29612ca",
   "metadata": {},
   "source": [
    "---\n",
    "\n",
    "title: \"Simulating Aedes aegypti Population Dynamics in Cyprus (2024)\"\n",
    "author: \"Daniele Da Re & Giovanni Marini\"\n",
    "date: \"2025-09-10\"\n",
    "output: html_document\n",
    "---"
   ]
  },
  {
   "cell_type": "code",
   "execution_count": null,
   "id": "c97f3f01",
   "metadata": {
    "name": "setup",
    "tags": [
     "remove_cell"
    ],
    "vscode": {
     "languageId": "r"
    }
   },
   "outputs": [],
   "source": [
    "knitr::opts_chunk$set(echo = TRUE, warning=FALSE, message=FALSE, root.dir = '/home/dared/Documents/PoD/marieCurie2022/workshopNicosia/exercise/')\n",
    "getwd()"
   ]
  },
  {
   "cell_type": "markdown",
   "id": "6d83cc0e",
   "metadata": {},
   "source": [
    "# Part 1: deterministic vs stochastic model\n",
    "## 1. Deterministic model \n",
    "\n",
    "Define the deterministic model"
   ]
  },
  {
   "cell_type": "code",
   "execution_count": null,
   "id": "7a03c5eb",
   "metadata": {
    "name": "deterministic model",
    "vscode": {
     "languageId": "r"
    }
   },
   "outputs": [],
   "source": [
    "library(deSolve)\n",
    "\n",
    "##### Introduction of a mosquito #####\n",
    "\n",
    "### Parameters\n",
    "params <- list(\n",
    "  fecundity = 5,\n",
    "  muA = 0.1 # mortality A\n",
    ")\n",
    "\n",
    "time <- 100\n",
    "state <- c(E = 0, A = 1)\n",
    "\n",
    "### ODE model with DeSolve\n",
    "population_model <- function(t, state, params) {\n",
    "  with(as.list(c(state, params)), {\n",
    "    \n",
    "    dE <- fecundity * A \n",
    "    dA <- - muA * A\n",
    "    list(c(dE, dA))\n",
    "  })\n",
    "}"
   ]
  },
  {
   "cell_type": "markdown",
   "id": "9a82e293",
   "metadata": {},
   "source": [
    "Run the deterministic model"
   ]
  },
  {
   "cell_type": "code",
   "execution_count": null,
   "id": "7552a2fe",
   "metadata": {
    "name": "det mod",
    "vscode": {
     "languageId": "r"
    }
   },
   "outputs": [],
   "source": [
    "times <- seq(0, time, by = 1)\n",
    "det_out <- ode(y = state, times = times, func = population_model, parms = params)\n",
    "par(mfrow=c(1,2))\n",
    "\n",
    "plot(times,det_out[,2],type=\"l\",xlab=\"Days\",ylab=\"Eggs\")\n",
    "plot(times,det_out[,3],type=\"l\",xlab=\"Days\",ylab=\"Adults\")\n"
   ]
  },
  {
   "cell_type": "markdown",
   "id": "88d6a690",
   "metadata": {},
   "source": [
    "## 2. Stochastic model\n",
    "\n",
    "Define the stochastic model "
   ]
  },
  {
   "cell_type": "code",
   "execution_count": null,
   "id": "1bd010bc",
   "metadata": {
    "vscode": {
     "languageId": "r"
    }
   },
   "outputs": [],
   "source": [
    "stochastic_model <- function(time, init, params) {\n",
    "  out <- matrix(NA, nrow = time+1, ncol = 2)\n",
    "  colnames(out) <- c(\"Eggs\", \"Adults\")\n",
    "  out[1, ] <- init\n",
    "  \n",
    "  for (t in 1:time) {\n",
    "    E <- out[t, \"Eggs\"]\n",
    "    A <- out[t, \"Adults\"]\n",
    "    \n",
    "    newE <- rpois(1, params$fecundity * A)\n",
    "    \n",
    "    dieA <- rbinom(1, A, params$muA)\n",
    "    \n",
    "    out[t+1, \"Eggs\"]   <- E + newE\n",
    "    out[t+1, \"Adults\"] <- A - dieA \n",
    "  }\n",
    "  return(out)\n",
    "}"
   ]
  },
  {
   "cell_type": "markdown",
   "id": "7c5d368e",
   "metadata": {},
   "source": [
    "Run the stochastic model "
   ]
  },
  {
   "cell_type": "code",
   "execution_count": null,
   "id": "de1b2103",
   "metadata": {
    "vscode": {
     "languageId": "r"
    }
   },
   "outputs": [],
   "source": [
    "nrun <- 100\n",
    "set.seed(123)\n",
    "\n",
    "stoch_runs <- vector(\"list\", length = nrun)\n",
    "\n",
    "for (i in 1:nrun) {\n",
    "  stoch_runs[[i]] <- stochastic_model(time, state, params)\n",
    "}\n",
    "\n",
    "par(mfrow=c(1,2))\n",
    "plot(times,det_out[,3],type=\"l\",xlab=\"Days\",ylab=\"Adults\")\n",
    "for(i in 1:length(stoch_runs))\n",
    "  lines(times,stoch_runs[[i]][,2])\n",
    "lines(times,det_out[,3],col=\"red\",lwd=3)\n",
    "\n",
    "ymax=max(c(det_out[,2],sapply(stoch_runs, function(mat) max(mat[, 1]))))\n",
    "plot(times,det_out[,2],type=\"l\",xlab=\"Days\",ylab=\"Eggs\",ylim=c(0,ymax))\n",
    "for(i in 1:length(stoch_runs))\n",
    "  lines(times,stoch_runs[[i]][,1])\n",
    "lines(times,det_out[,2],col=\"red\",lwd=3)"
   ]
  },
  {
   "cell_type": "code",
   "execution_count": null,
   "id": "c797e047",
   "metadata": {
    "vscode": {
     "languageId": "r"
    }
   },
   "outputs": [],
   "source": [
    "# number of simulations with few eggs\n",
    "length(which(sapply(stoch_runs, function(mat) max(mat[, 1]))<=10))"
   ]
  },
  {
   "cell_type": "markdown",
   "id": "6a09d89c",
   "metadata": {},
   "source": [
    "## 3.SIR "
   ]
  },
  {
   "cell_type": "code",
   "execution_count": null,
   "id": "b26350a6",
   "metadata": {
    "vscode": {
     "languageId": "r"
    }
   },
   "outputs": [],
   "source": [
    "## Parameters\n",
    "N <- 10000         # total population\n",
    "beta <- 0.3        # transmission rate\n",
    "gamma <- 0.2       # recovery rate\n",
    "time <- 180        # days\n",
    "\n",
    "parms <- list(beta = beta, gamma = gamma, N = N)\n",
    "\n",
    "## initial conditions: only 1 infectious\n",
    "init <- c(S = N - 1, I = 1, R = 0)\n",
    "\n",
    "sir_ode <- function(t, state, parms) {\n",
    "  with(as.list(c(state, parms)), {\n",
    "    dS <- -beta * S * I / N\n",
    "    dI <-  beta * S * I / N - gamma * I\n",
    "    dR <-  gamma * I\n",
    "    list(c(dS, dI, dR))\n",
    "  })\n",
    "}\n",
    "\n",
    "times_det <- seq(0, time, by = 1)\n",
    "det_out <- ode(y = init, times = times_det, func = sir_ode, parms = parms)\n",
    "det_df <- as.data.frame(det_out)  \n",
    "\n",
    "stochastic_run <- function(time, init, params) {\n",
    "  S <- I <- R <- numeric(time + 1)\n",
    "  S[1] <- init[\"S\"]; I[1] <- init[\"I\"]; R[1] <- init[\"R\"]\n",
    "  \n",
    "  for (t in 1:time) {\n",
    "    St <- S[t]; It <- I[t]; Rt <- R[t]\n",
    "    if (It <= 0) {\n",
    "      S[t+1] <- St\n",
    "      I[t+1] <- 0\n",
    "      R[t+1] <- Rt\n",
    "      next\n",
    "    }\n",
    "    \n",
    "    p_inf <- 1 - exp(- params$beta * It / params$N)\n",
    "    p_rec <- 1 - exp(- params$gamma)\n",
    "    \n",
    "    new_inf <- rbinom(1, St, prob = p_inf)\n",
    "    new_rec <- rbinom(1, It, prob = p_rec)\n",
    "    \n",
    "    S[t+1] <- St - new_inf\n",
    "    I[t+1] <- It + new_inf - new_rec\n",
    "    R[t+1] <- Rt + new_rec\n",
    "    \n",
    "    S[t+1] <- max(0, round(S[t+1]))\n",
    "    I[t+1] <- max(0, round(I[t+1]))\n",
    "    R[t+1] <- max(0, round(R[t+1]))\n",
    "  }\n",
    "  cbind(S = S, I = I, R = R)\n",
    "}\n"
   ]
  },
  {
   "cell_type": "markdown",
   "id": "8f309ec2",
   "metadata": {},
   "source": [
    "Run the SIR model "
   ]
  },
  {
   "cell_type": "code",
   "execution_count": null,
   "id": "eeebf819",
   "metadata": {
    "lines_to_next_cell": 2,
    "vscode": {
     "languageId": "r"
    }
   },
   "outputs": [],
   "source": [
    "nrun <- 100\n",
    "set.seed(123)\n",
    "\n",
    "stoch_runs <- vector(\"list\", length = nrun)\n",
    "\n",
    "for (i in 1:nrun) {\n",
    "  stoch_runs[[i]] <- stochastic_run(time, init, parms)\n",
    "}"
   ]
  },
  {
   "cell_type": "code",
   "execution_count": null,
   "id": "7cae96cf",
   "metadata": {
    "lines_to_next_cell": 0,
    "vscode": {
     "languageId": "r"
    }
   },
   "outputs": [],
   "source": [
    "par(mfrow=c(1,3))\n",
    "ymax=max(c(det_out[,2],sapply(stoch_runs, function(mat) max(mat[, 1]))))\n",
    "plot(times_det,det_out[,2],type=\"l\",xlab=\"Days\",ylab=\"Susceptible\",ylim=c(0,ymax))\n",
    "for(i in 1:length(stoch_runs))\n",
    "  lines(times_det,stoch_runs[[i]][,1])\n",
    "lines(times_det,det_out[,2],col=\"red\",lwd=3)\n",
    "\n",
    "ymax=max(c(det_out[,3],sapply(stoch_runs, function(mat) max(mat[, 2]))))\n",
    "plot(times_det,det_out[,3],type=\"l\",xlab=\"Days\",ylab=\"Infected\",ylim=c(0,ymax))\n",
    "for(i in 1:length(stoch_runs))\n",
    "  lines(times_det,stoch_runs[[i]][,2])\n",
    "lines(times_det,det_out[,3],col=\"red\",lwd=3)\n",
    "\n",
    "ymax=max(c(det_out[,4],sapply(stoch_runs, function(mat) max(mat[, 3]))))\n",
    "plot(times_det,det_out[,4],type=\"l\",xlab=\"Days\",ylab=\"Recoered\",ylim=c(0,ymax))\n",
    "for(i in 1:length(stoch_runs))\n",
    "  lines(times_det,stoch_runs[[i]][,3])\n",
    "lines(times_det,det_out[,4],col=\"red\",lwd=3)"
   ]
  },
  {
   "cell_type": "code",
   "execution_count": null,
   "id": "721d5681",
   "metadata": {
    "vscode": {
     "languageId": "r"
    }
   },
   "outputs": [],
   "source": [
    "# number of simulations with only 1 recovered (i.e. no further transmission)\n",
    "length(which(sapply(stoch_runs, function(mat) max(mat[, 3]))==1))"
   ]
  },
  {
   "cell_type": "markdown",
   "id": "a13cc831",
   "metadata": {},
   "source": [
    "# Part 2: a short introduction to dynamAedes\n",
    "\n",
    "This workflow uses the `dynamAedes` R package to simulate the introduction and population dynamics of the mosquito *Aedes aegypti* across Cyprus in 2024. The temperature data is extracted from the CERRA climate reanalysis and drives the biological rates in the model. Outputs include estimates of daily abundance and spatial spread.\n",
    "\n",
    "---\n",
    "\n",
    "## 1. Load Required Packages"
   ]
  },
  {
   "cell_type": "code",
   "execution_count": null,
   "id": "649f13a2",
   "metadata": {
    "name": "libraries",
    "vscode": {
     "languageId": "r"
    }
   },
   "outputs": [],
   "source": [
    "# devtools::install_github(\"mattmar/dynamAedes@development\")\n",
    "library(terra)\n",
    "library(tidyterra)\n",
    "library(dynamAedes)\n",
    "library(lubridate)\n",
    "library(dplyr)\n",
    "library(tidyr)\n",
    "library(ggplot2)"
   ]
  },
  {
   "cell_type": "markdown",
   "id": "ca9b2b09",
   "metadata": {},
   "source": [
    "## 2. Load and Preprocess Temperature Data\n",
    "\n",
    "This section loads the daily 2m temperature raster data for 2024, reprojects it to its correct coordinate system (Lambert Conformal Conic), and crops it to the geographical extent of Cyprus to reduce computation time."
   ]
  },
  {
   "cell_type": "code",
   "execution_count": null,
   "id": "9e130533",
   "metadata": {
    "name": "load-temp",
    "vscode": {
     "languageId": "r"
    }
   },
   "outputs": [],
   "source": [
    "myT <- rast(\"/data/t2m_CERRA_2024.nc\")\n",
    "\n",
    "crs_lcc <- \"+proj=lcc +lat_1=50 +lat_2=50 +lat_0=50 +lon_0=8 +x_0=0 +y_0=0 +datum=WGS84 +units=m +no_defs\"\n",
    "crs(myT) <- crs_lcc\n",
    "names(myT) <- seq.Date(as.Date(\"2024-01-01\"), by=\"day\", length.out = nlyr(myT))\n",
    "\n",
    "bbox <- ext(239, 280, 155, 195)\n",
    "myT <- crop(myT, bbox)\n",
    "\n",
    "myT <- flip(myT, direction = \"vertical\")\n",
    "plot(myT[[1]])"
   ]
  },
  {
   "cell_type": "markdown",
   "id": "7621f07a",
   "metadata": {},
   "source": [
    "---\n",
    "\n",
    "### 2.1 Apply a Sea Mask\n",
    "\n",
    "Temperatures over the sea are masked to simulate mosquito dynamics only on land."
   ]
  },
  {
   "cell_type": "code",
   "execution_count": null,
   "id": "2228e505",
   "metadata": {
    "name": "sea-mask",
    "vscode": {
     "languageId": "r"
    }
   },
   "outputs": [],
   "source": [
    "seaMask <- myT[[1]]\n",
    "seaMask[seaMask > 15] <- NA\n",
    "seaMask[!is.na(seaMask)] <- 1\n",
    "myT <- myT * seaMask\n",
    "\n",
    "plot(myT[[1]], main = \"Masked Land Temperature (Day 1)\")"
   ]
  },
  {
   "cell_type": "markdown",
   "id": "b845f6ba",
   "metadata": {},
   "source": [
    "---\n",
    "\n",
    "## 3. Explore Temperature-Dependent Life History Traits\n",
    "\n",
    "Here we explore how temperature affects mosquito life-history parameters using `dynamAedes::get_rate`."
   ]
  },
  {
   "cell_type": "code",
   "execution_count": null,
   "id": "b4be97f1",
   "metadata": {
    "name": "rates",
    "vscode": {
     "languageId": "r"
    }
   },
   "outputs": [],
   "source": [
    "ex.temp <- seq(-5, 40, by = 1)\n",
    "my.r <- get_rate(temp = ex.temp, species = \"aegypti\", rate = \"a.surv\")\n",
    "plot(ex.temp, my.r, type = \"l\", \n",
    "     main = \"Adult Survival Rate (Aedes aegypti)\",\n",
    "     xlab = \"Temperature (°C)\", ylab = \"Survival Rate\")\n",
    "\n",
    "my.r <- get_rate(temp = ex.temp, species = \"aegypti\", rate = \"a.ovi\")\n",
    "\n",
    "plot(ex.temp, my.r, type = \"l\", \n",
    "     main = \" Fecundity (Aedes aegypti)\",\n",
    "     xlab = \"Temperature (°C)\", ylab = \"# Eggs\")\n"
   ]
  },
  {
   "cell_type": "markdown",
   "id": "3d1f5913",
   "metadata": {},
   "source": [
    "Explore spatial variation in survival rates over a few selected days:\n"
   ]
  },
  {
   "cell_type": "code",
   "execution_count": null,
   "id": "d56929d0",
   "metadata": {
    "name": "rate-spatial",
    "vscode": {
     "languageId": "r"
    }
   },
   "outputs": [],
   "source": [
    "#still dev version: add cores on tapp and fix the juvenile density\n",
    "my.r <- get_rate(temp = myT[[c(10, 100, 200, 300, 350)]], species = \"aegypti\", rate = \"a.surv\")\n",
    "plot(my.r)"
   ]
  },
  {
   "cell_type": "markdown",
   "id": "030b6a97",
   "metadata": {},
   "source": [
    "---\n",
    "\n",
    "## 4. Prepare Data for Simulation\n",
    "\n",
    "Temperature data is converted to a format compatible with the `dynamAedes.m()` model: a matrix of temperatures and corresponding cell coordinates."
   ]
  },
  {
   "cell_type": "code",
   "execution_count": null,
   "id": "5922174e",
   "metadata": {
    "name": "prepare-data",
    "vscode": {
     "languageId": "r"
    }
   },
   "outputs": [],
   "source": [
    "df_temp <- as.data.frame(myT, xy = TRUE)\n",
    "cc <- df_temp[, c(\"x\", \"y\")]\n",
    "w <- sapply(df_temp[, -c(1:2)], function(x) as.integer(x * 1000))"
   ]
  },
  {
   "cell_type": "markdown",
   "id": "0537f7e3",
   "metadata": {},
   "source": [
    "### Define Simulation Parameters"
   ]
  },
  {
   "cell_type": "code",
   "execution_count": null,
   "id": "dd504050",
   "metadata": {
    "name": "model-params",
    "vscode": {
     "languageId": "r"
    }
   },
   "outputs": [],
   "source": [
    "## Define the day of introduction (January 1st is day 1)\n",
    "str <- \"2024-02-01\"\n",
    "## Define the end-day of life cycle (December 31st is the last day)\n",
    "endr <- \"2024-12-31\"\n",
    "## Define the number of eggs to be introduced\n",
    "ie <- 10000\n",
    "## Define the number of model iterations\n",
    "it <- 10 # The higher the number of simulations the better\n",
    "## Define the number of liters for the larval density-dependent mortality\n",
    "habitat_liters <- 1000\n",
    "## Define the number of parallel processes (for sequential iterations set nc=1)\n",
    "cl <- 10\n",
    "#subset w to get the first column of the matrix matching the day of introduction \n",
    "w <- w[, as.numeric(format(as.Date(str), \"%j\")):ncol(w)]"
   ]
  },
  {
   "cell_type": "markdown",
   "id": "2f384e72",
   "metadata": {},
   "source": [
    "---\n",
    "\n",
    "## 5. Run the Aedes aegypti Model"
   ]
  },
  {
   "cell_type": "code",
   "execution_count": null,
   "id": "e6323bd0",
   "metadata": {
    "eval": false,
    "name": "run-model",
    "vscode": {
     "languageId": "r"
    }
   },
   "outputs": [],
   "source": [
    "simout <- dynamAedes.m(\n",
    "  species = \"aegypti\",\n",
    "  scale = \"rg\",\n",
    "  jhwv = habitat_liters,\n",
    "  temps.matrix = w,\n",
    "  cells.coords = as.matrix(cc),\n",
    "  startd = str,\n",
    "  endd = endr,\n",
    "  n.clusters = cl,\n",
    "  iter = it,\n",
    "  intro.eggs = ie,\n",
    "  compressed.output = FALSE,\n",
    "  seeding = TRUE,\n",
    "  verbose = FALSE\n",
    ")\n",
    "\n",
    "outname <- paste0(\"results/aegy_syms_uncompressed_workshopNicosia_it\", it, \"_\", Sys.Date(), \".RDS\")\n",
    "saveRDS(simout, outname)"
   ]
  },
  {
   "cell_type": "markdown",
   "id": "f61a14fa",
   "metadata": {},
   "source": [
    "---\n",
    "\n",
    "## 6. Postprocessing"
   ]
  },
  {
   "cell_type": "code",
   "execution_count": null,
   "id": "a4d169dc",
   "metadata": {
    "name": "load-results",
    "vscode": {
     "languageId": "r"
    }
   },
   "outputs": [],
   "source": [
    "simout <- readRDS(\"/results/aegy_syms_uncompressed_workshopNicosia_it10_2025-09-09.RDS\")\n",
    "summary(simout)\n",
    "dd <- max(simout)"
   ]
  },
  {
   "cell_type": "markdown",
   "id": "1588871d",
   "metadata": {},
   "source": [
    "---\n",
    "\n",
    "### 6.1 PSI Maps\n",
    "\n",
    "The PSI (Percentage of Successful Introductions) represents the proportion of simulations in which the mosquito population persisted in each cell."
   ]
  },
  {
   "cell_type": "code",
   "execution_count": null,
   "id": "dfaa1ef3",
   "metadata": {
    "name": "psi-out",
    "vscode": {
     "languageId": "r"
    }
   },
   "outputs": [],
   "source": [
    "psi.out <- psi_sp(input_sim = simout, eval_date = c(100, 200, 300), n.clusters = 10)\n",
    "psi.out\n",
    "plot(psi.out)"
   ]
  },
  {
   "cell_type": "markdown",
   "id": "3518f05f",
   "metadata": {},
   "source": [
    "---\n",
    "\n",
    "### 6.2 Time Series of Abundance"
   ]
  },
  {
   "cell_type": "code",
   "execution_count": null,
   "id": "f6f70379",
   "metadata": {
    "name": "iqr-plots",
    "vscode": {
     "languageId": "r"
    }
   },
   "outputs": [],
   "source": [
    "breaks <- c(0.25, 0.50, 0.75)\n",
    "ed <- 1:dd\n",
    "\n",
    "outdf <- rbind(\n",
    "  adci(simout, eval_date = ed, breaks = breaks, stage = \"Eggs\", type = \"O\"),\n",
    "  adci(simout, eval_date = ed, breaks = breaks, stage = \"Juvenile\", type = \"O\"),\n",
    "  adci(simout, eval_date = ed, breaks = breaks, stage = \"Adults\", type = \"O\")\n",
    ")\n",
    "\n",
    "outdf$stage <- factor(outdf$stage, levels = c('Egg', 'Juvenile', 'Adult'))\n",
    "outdf$Date <- rep(seq.Date(as.Date(str), as.Date(endr) - 2, by = \"day\"), 3)\n",
    "\n",
    "ggplot(outdf, aes(x = Date, y = X50., group = stage, color = stage)) +\n",
    "  ggtitle(\"Ae. aegypti Interquartile Range of Abundance\") +\n",
    "  geom_ribbon(aes(ymin = X25., ymax = X75., fill = stage), alpha = 0.2, color = NA) +\n",
    "  geom_line(linewidth = 0.8) +\n",
    "  labs(x = \"Date\", y = \"Abundance\", color = \"Stage\", fill = \"Stage\") +\n",
    "  facet_wrap(~stage, scales = \"free_y\") +\n",
    "  theme_light() +\n",
    "  theme(legend.position = \"bottom\", text = element_text(size = 16))\n",
    "\n",
    "\n",
    "#log10 transformed for cleared visualisation\n",
    "ggplot(outdf, aes(x = Date, y = log10(X50.+1), group = stage, color = stage)) +\n",
    "  ggtitle(\"Ae. aegypti Interquartile Range of Abundance\") +\n",
    "  geom_ribbon(aes(ymin = log10(X25.+1), ymax = log10(X75.+1), fill = stage), alpha = 0.2, color = NA) +\n",
    "  geom_line(linewidth = 0.8) +\n",
    "  ylim(0, 10)+\n",
    "  labs(x = \"Date\", y = \"Abundance\", color = \"Stage\", fill = \"Stage\") +\n",
    "  facet_wrap(~stage, scales = \"free_y\") +\n",
    "  theme_light() +\n",
    "  theme(legend.position = \"bottom\", text = element_text(size = 16))\n"
   ]
  },
  {
   "cell_type": "markdown",
   "id": "e9f06126",
   "metadata": {},
   "source": [
    "---\n",
    "\n",
    "## 7. Spatial Summary of Female Adults"
   ]
  },
  {
   "cell_type": "code",
   "execution_count": null,
   "id": "3eb86a52",
   "metadata": {
    "name": "spatial-adults",
    "vscode": {
     "languageId": "r"
    }
   },
   "outputs": [],
   "source": [
    "breaks <- c(0.25, 0.50, 0.75)\n",
    "ad.r <- adci(simout, eval_date = c(50, 100, 200, 300), breaks = breaks,\n",
    "             stage = \"Adults\", type = \"N\", n.clusters = 10)\n",
    "ad.r\n",
    "ad.r <- ad.r$q_0.5\n",
    "\n",
    "ggplot() +\n",
    "  geom_spatraster(data = ad.r) +\n",
    "  scale_fill_viridis_b(option = \"viridis\", direction = 1,\n",
    "                       limits = c(0, 500000),\n",
    "                       breaks = c(0, 50, 100, 1000, 10000, 25000, 50000),\n",
    "                       oob = scales::squish, na.value = \"transparent\") +\n",
    "  labs(x = \"Longitude\", y = \"Latitude\", fill = \"Daily number of female adults\") +\n",
    "  facet_wrap(~lyr, ncol = 4) +\n",
    "  theme_classic() +\n",
    "  theme(legend.position = \"bottom\",\n",
    "        text = element_text(size = 12),\n",
    "        legend.text = element_text(size = 10),\n",
    "        legend.key.size = unit(2, 'cm')) +\n",
    "  coord_equal()"
   ]
  },
  {
   "cell_type": "markdown",
   "id": "710a35cb",
   "metadata": {},
   "source": [
    "---"
   ]
  }
 ],
 "metadata": {
  "jupytext": {
   "cell_metadata_filter": "eval,name,tags,-all",
   "main_language": "R",
   "notebook_metadata_filter": "-all"
  },
  "kernelspec": {
   "display_name": "R",
   "language": "R",
   "name": "ir"
  },
  "language_info": {
   "name": "R"
  }
 },
 "nbformat": 4,
 "nbformat_minor": 5
}

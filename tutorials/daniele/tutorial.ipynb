{
 "cells": [
  {
   "cell_type": "raw",
   "id": "3fd4e43e",
   "metadata": {},
   "source": [
    "---\n",
    "\n",
    "title: \"Simulating Aedes aegypti Population Dynamics in Cyprus (2024)\"\n",
    "author: \"Daniele Da Re & Giovanni Marini\"\n",
    "date: \"2025-09-10\"\n",
    "output: html_document\n",
    "---"
   ]
  },
  {
   "cell_type": "code",
   "execution_count": null,
   "id": "4e2d7304",
   "metadata": {
    "name": "setup",
    "tags": [
     "remove_cell"
    ]
   },
   "outputs": [],
   "source": [
    "knitr::opts_chunk$set(echo = TRUE, warning=FALSE, message=FALSE, root.dir = '~/')\n",
    "getwd()"
   ]
  },
  {
   "cell_type": "markdown",
   "id": "e1d42441",
   "metadata": {},
   "source": [
    "## Overview\n",
    "\n",
    "This workflow uses the `dynamAedes` R package to simulate the introduction and population dynamics of the mosquito *Aedes aegypti* across Cyprus in 2024. The temperature data is extracted from the CERRA climate reanalysis and drives the biological rates in the model. Outputs include estimates of daily abundance and spatial spread.\n",
    "\n",
    "---\n",
    "\n",
    "## 1. Load Required Packages"
   ]
  },
  {
   "cell_type": "code",
   "execution_count": null,
   "id": "2f1c26e6",
   "metadata": {
    "name": "libraries"
   },
   "outputs": [],
   "source": [
    "# devtools::install_github(\"mattmar/dynamAedes@development\")\n",
    "library(terra)\n",
    "library(tidyterra)\n",
    "library(dynamAedes)\n",
    "library(lubridate)\n",
    "library(dplyr)\n",
    "library(tidyr)\n",
    "library(ggplot2)"
   ]
  },
  {
   "cell_type": "markdown",
   "id": "6fcd8743",
   "metadata": {},
   "source": [
    "## 2. Load and Preprocess Temperature Data\n",
    "\n",
    "This section loads the daily 2m temperature raster data for 2024, reprojects it to its correct coordinate system (Lambert Conformal Conic), and crops it to the geographical extent of Cyprus to reduce computation time."
   ]
  },
  {
   "cell_type": "code",
   "execution_count": null,
   "id": "cb08cba8",
   "metadata": {
    "name": "load-temp"
   },
   "outputs": [],
   "source": [
    "myT <- rast(\"/data/t2m_CERRA_2024.nc\")\n",
    "\n",
    "crs_lcc <- \"+proj=lcc +lat_1=50 +lat_2=50 +lat_0=50 +lon_0=8 +x_0=0 +y_0=0 +datum=WGS84 +units=m +no_defs\"\n",
    "crs(myT) <- crs_lcc\n",
    "names(myT) <- seq.Date(as.Date(\"2024-01-01\"), by=\"day\", length.out = nlyr(myT))\n",
    "\n",
    "bbox <- ext(930, 980, 280, 330)\n",
    "myT <- crop(myT, bbox)"
   ]
  },
  {
   "cell_type": "markdown",
   "id": "2fc9fb44",
   "metadata": {},
   "source": [
    "---\n",
    "\n",
    "### 2.1 Apply a Sea Mask\n",
    "\n",
    "Temperatures over the sea are masked to simulate mosquito dynamics only on land."
   ]
  },
  {
   "cell_type": "code",
   "execution_count": null,
   "id": "39343531",
   "metadata": {
    "name": "sea-mask"
   },
   "outputs": [],
   "source": [
    "seaMask <- myT[[1]]\n",
    "seaMask[seaMask > 15] <- NA\n",
    "seaMask[!is.na(seaMask)] <- 1\n",
    "myT <- myT * seaMask\n",
    "\n",
    "plot(myT[[1]], main = \"Masked Land Temperature (Day 1)\")"
   ]
  },
  {
   "cell_type": "markdown",
   "id": "8c981337",
   "metadata": {},
   "source": [
    "---\n",
    "\n",
    "## 3. Explore Temperature-Dependent Life History Traits\n",
    "\n",
    "Here we explore how temperature affects mosquito life-history parameters using `dynamAedes::get_rate`."
   ]
  },
  {
   "cell_type": "code",
   "execution_count": null,
   "id": "87a7d0ef",
   "metadata": {
    "name": "rates"
   },
   "outputs": [],
   "source": [
    "ex.temp <- seq(-5, 40, by = 1)\n",
    "my.r <- get_rate(temp = ex.temp, species = \"aegypti\", rate = \"a.surv\")\n",
    "\n",
    "plot(ex.temp, my.r, type = \"l\", \n",
    "     main = \"Adult Survival Rate vs Temperature (Aedes aegypti)\",\n",
    "     xlab = \"Temperature (°C)\", ylab = \"Survival Rate\")"
   ]
  },
  {
   "cell_type": "markdown",
   "id": "db6f5003",
   "metadata": {},
   "source": [
    "Explore spatial variation in survival rates over a few selected days:"
   ]
  },
  {
   "cell_type": "code",
   "execution_count": null,
   "id": "ef0bf9cb",
   "metadata": {
    "name": "rate-spatial"
   },
   "outputs": [],
   "source": [
    "my.r <- get_rate(temp = myT[[c(10, 100, 200, 300, 350)]], species = \"aegypti\", rate = \"a.surv\")\n",
    "plot(my.r)"
   ]
  },
  {
   "cell_type": "markdown",
   "id": "e2b7d190",
   "metadata": {},
   "source": [
    "---\n",
    "\n",
    "## 4. Prepare Data for Simulation\n",
    "\n",
    "Temperature data is converted to a format compatible with the `dynamAedes.m()` model: a matrix of temperatures and corresponding cell coordinates."
   ]
  },
  {
   "cell_type": "code",
   "execution_count": null,
   "id": "8646c494",
   "metadata": {
    "name": "prepare-data"
   },
   "outputs": [],
   "source": [
    "df_temp <- as.data.frame(myT, xy = TRUE)\n",
    "cc <- df_temp[, c(\"x\", \"y\")]\n",
    "w <- sapply(df_temp[, -c(1:2)], function(x) as.integer(x * 1000))"
   ]
  },
  {
   "cell_type": "markdown",
   "id": "d7cba10a",
   "metadata": {},
   "source": [
    "### Define Simulation Parameters"
   ]
  },
  {
   "cell_type": "code",
   "execution_count": null,
   "id": "c2f363ae",
   "metadata": {
    "name": "model-params"
   },
   "outputs": [],
   "source": [
    "## Define the day of introduction (January 1st is day 1)\n",
    "str <- \"2024-02-01\"\n",
    "## Define the end-day of life cycle (December 31st is the last day)\n",
    "endr <- \"2024-12-31\"\n",
    "## Define the number of eggs to be introduced\n",
    "ie <- 10000\n",
    "## Define the number of model iterations\n",
    "it <- 10 # The higher the number of simulations the better\n",
    "## Define the number of liters for the larval density-dependent mortality\n",
    "habitat_liters <- 1000\n",
    "## Define the number of parallel processes (for sequential iterations set nc=1)\n",
    "cl <- 10\n",
    "#subset w to get the first column of the matrix matching the day of introduction \n",
    "w <- w[, as.numeric(format(as.Date(str), \"%j\")):ncol(w)]"
   ]
  },
  {
   "cell_type": "markdown",
   "id": "406b1079",
   "metadata": {},
   "source": [
    "---\n",
    "\n",
    "## 5. Run the Aedes aegypti Model"
   ]
  },
  {
   "cell_type": "code",
   "execution_count": null,
   "id": "941f832d",
   "metadata": {
    "eval": false,
    "name": "run-model"
   },
   "outputs": [],
   "source": [
    "simout <- dynamAedes.m(\n",
    "  species = \"aegypti\",\n",
    "  scale = \"rg\",\n",
    "  jhwv = habitat_liters,\n",
    "  temps.matrix = w,\n",
    "  cells.coords = as.matrix(cc),\n",
    "  startd = str,\n",
    "  endd = endr,\n",
    "  n.clusters = cl,\n",
    "  iter = it,\n",
    "  intro.eggs = ie,\n",
    "  compressed.output = FALSE,\n",
    "  seeding = TRUE,\n",
    "  verbose = FALSE\n",
    ")\n",
    "\n",
    "outname <- paste0(\"aegy_syms_uncompressed_workshopNicosia_it\", it, \"_\", Sys.Date(), \".RDS\")\n",
    "saveRDS(simout, outname)"
   ]
  },
  {
   "cell_type": "markdown",
   "id": "585e3a61",
   "metadata": {},
   "source": [
    "---\n",
    "\n",
    "## 6. Postprocessing"
   ]
  },
  {
   "cell_type": "code",
   "execution_count": null,
   "id": "2afe55fc",
   "metadata": {
    "name": "load-results"
   },
   "outputs": [],
   "source": [
    "simout <- readRDS(\"aegy_syms_uncompressed_workshopNicosia_it10_2025-09-09.RDS\")\n",
    "dd <- max(simout)"
   ]
  },
  {
   "cell_type": "markdown",
   "id": "ebb70fd9",
   "metadata": {},
   "source": [
    "---\n",
    "\n",
    "### 6.1 PSI Maps\n",
    "\n",
    "The PSI (Percentage of Successful Introductions) represents the proportion of simulations in which the mosquito population persisted in each cell."
   ]
  },
  {
   "cell_type": "code",
   "execution_count": null,
   "id": "f27de7ac",
   "metadata": {
    "name": "psi-out"
   },
   "outputs": [],
   "source": [
    "psi.out <- psi_sp(input_sim = simout, eval_date = c(50, 100, 200, 300), n.clusters = 10)\n",
    "plot(psi.out)"
   ]
  },
  {
   "cell_type": "markdown",
   "id": "dc747107",
   "metadata": {},
   "source": [
    "---\n",
    "\n",
    "### 6.2 Time Series of Abundance"
   ]
  },
  {
   "cell_type": "code",
   "execution_count": null,
   "id": "39efab39",
   "metadata": {
    "name": "iqr-plots"
   },
   "outputs": [],
   "source": [
    "breaks <- c(0.25, 0.50, 0.75)\n",
    "ed <- 1:dd\n",
    "\n",
    "outdf <- rbind(\n",
    "  adci(simout, eval_date = ed, breaks = breaks, stage = \"Eggs\", type = \"O\"),\n",
    "  adci(simout, eval_date = ed, breaks = breaks, stage = \"Juvenile\", type = \"O\"),\n",
    "  adci(simout, eval_date = ed, breaks = breaks, stage = \"Adults\", type = \"O\")\n",
    ")\n",
    "\n",
    "outdf$stage <- factor(outdf$stage, levels = c('Egg', 'Juvenile', 'Adult'))\n",
    "outdf$Date <- rep(seq.Date(as.Date(str), as.Date(endr) - 2, by = \"day\"), 3)\n",
    "\n",
    "ggplot(outdf, aes(x = Date, y = X50., group = stage, color = stage)) +\n",
    "  ggtitle(\"Ae. aegypti Interquartile Range of Abundance\") +\n",
    "  geom_ribbon(aes(ymin = X25., ymax = X75., fill = stage), alpha = 0.2, color = NA) +\n",
    "  geom_line(linewidth = 0.8) +\n",
    "  labs(x = \"Date\", y = \"Abundance\", color = \"Stage\", fill = \"Stage\") +\n",
    "  facet_wrap(~stage, scales = \"free_y\") +\n",
    "  theme_light() +\n",
    "  theme(legend.position = \"bottom\", text = element_text(size = 16))\n",
    "\n",
    "\n",
    "#log10 transformed for cleared visualisation\n",
    "ggplot(outdf, aes(x = Date, y = log10(X50.+1), group = stage, color = stage)) +\n",
    "  ggtitle(\"Ae. aegypti Interquartile Range of Abundance\") +\n",
    "  geom_ribbon(aes(ymin = log10(X25.+1), ymax = log10(X75.+1), fill = stage), alpha = 0.2, color = NA) +\n",
    "  geom_line(linewidth = 0.8) +\n",
    "  ylim(0, 10)+\n",
    "  labs(x = \"Date\", y = \"Abundance\", color = \"Stage\", fill = \"Stage\") +\n",
    "  facet_wrap(~stage, scales = \"free_y\") +\n",
    "  theme_light() +\n",
    "  theme(legend.position = \"bottom\", text = element_text(size = 16))\n"
   ]
  },
  {
   "cell_type": "markdown",
   "id": "4b1bbe7f",
   "metadata": {},
   "source": [
    "---\n",
    "\n",
    "## 7. Spatial Summary of Female Adults"
   ]
  },
  {
   "cell_type": "code",
   "execution_count": null,
   "id": "1e8d8b33",
   "metadata": {
    "name": "spatial-adults"
   },
   "outputs": [],
   "source": [
    "ad.r <- adci(simout, eval_date = c(50, 100, 200, 300), breaks = 0.5,\n",
    "             stage = \"Adults\", type = \"N\", n.clusters = 10)\n",
    "ad.r <- ad.r$q_0.5\n",
    "\n",
    "ggplot() +\n",
    "  geom_spatraster(data = ad.r) +\n",
    "  scale_fill_viridis_b(option = \"viridis\", direction = 1,\n",
    "                       limits = c(0, 500000),\n",
    "                       breaks = c(0, 50, 100, 1000, 10000, 25000, 50000),\n",
    "                       oob = scales::squish, na.value = \"transparent\") +\n",
    "  labs(x = \"Longitude\", y = \"Latitude\", fill = \"Daily number of female adults\") +\n",
    "  facet_wrap(~lyr, ncol = 4) +\n",
    "  theme_classic() +\n",
    "  theme(legend.position = \"bottom\",\n",
    "        text = element_text(size = 12),\n",
    "        legend.text = element_text(size = 10),\n",
    "        legend.key.size = unit(2, 'cm')) +\n",
    "  coord_equal()"
   ]
  },
  {
   "cell_type": "markdown",
   "id": "877f2f51",
   "metadata": {},
   "source": [
    "---"
   ]
  }
 ],
 "metadata": {
  "jupytext": {
   "cell_metadata_filter": "eval,name,tags,-all",
   "main_language": "R",
   "notebook_metadata_filter": "-all"
  },
  "language_info": {
   "name": "python"
  }
 },
 "nbformat": 4,
 "nbformat_minor": 5
}

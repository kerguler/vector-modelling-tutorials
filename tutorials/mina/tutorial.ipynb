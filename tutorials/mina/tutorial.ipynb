{
 "cells": [
  {
   "cell_type": "code",
   "execution_count": null,
   "id": "dac9b29c",
   "metadata": {},
   "outputs": [],
   "source": [
    "import subprocess\n",
    "\n",
    "# Launch R script in background, detached\n",
    "proc = subprocess.Popen(\n",
    "    [\"Rscript\", \"pinn-shinyv4V5.R\"],\n",
    "    stdout=subprocess.PIPE,\n",
    "    stderr=subprocess.PIPE\n",
    ")\n",
    "\n",
    "# Python continues immediately (non-blocking)\n",
    "print(\"Shiny app started (PID:\", proc.pid, \")\")"
   ]
  },
  {
   "cell_type": "code",
   "execution_count": null,
   "id": "cb1f2404",
   "metadata": {},
   "outputs": [],
   "source": [
    "from IPython.display import IFrame\n",
    "IFrame(f\"/proxy/8050/\", width=\"100%\", height=\"600\")"
   ]
  }
 ],
 "metadata": {
  "kernelspec": {
   "display_name": "Python 3",
   "language": "python",
   "name": "python3"
  },
  "language_info": {
   "codemirror_mode": "r",
   "file_extension": ".r",
   "mimetype": "text/x-r-source",
   "name": "python",
   "pygments_lexer": "r",
   "version": "3.12.0"
  }
 },
 "nbformat": 4,
 "nbformat_minor": 5
}

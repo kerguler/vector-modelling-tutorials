{
 "cells": [
  {
   "cell_type": "code",
   "execution_count": null,
   "id": "a3257323",
   "metadata": {
    "vscode": {
     "languageId": "r"
    }
   },
   "outputs": [],
   "source": [
    "using Plots\n",
    "\n",
    "# plot some data\n",
    "plot([cumsum(rand(500) .- 0.5), cumsum(rand(500) .- 0.5)])"
   ]
  }
 ],
 "metadata": {
  "language_info": {
   "name": "python"
  }
 },
 "nbformat": 4,
 "nbformat_minor": 5
}
